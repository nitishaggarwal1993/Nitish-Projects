{
 "cells": [
  {
   "cell_type": "code",
   "execution_count": 2,
   "id": "67a3a3d9",
   "metadata": {},
   "outputs": [],
   "source": [
    "import shap\n",
    "import pandas as pd\n",
    "import sklearn\n",
    "import numpy as np\n",
    "import matplotlib.pyplot as plt\n",
    "import seaborn as sns"
   ]
  },
  {
   "cell_type": "markdown",
   "id": "7db66402",
   "metadata": {},
   "source": [
    "##### Defining the features and the target variables"
   ]
  },
  {
   "cell_type": "code",
   "execution_count": 3,
   "id": "41f4c484",
   "metadata": {},
   "outputs": [],
   "source": [
    "x1 = np.random.normal(0, 1, 100)"
   ]
  },
  {
   "cell_type": "code",
   "execution_count": 4,
   "id": "ac0f2254",
   "metadata": {},
   "outputs": [],
   "source": [
    "#defiming epsilone\n",
    "e = np.random.normal(0, 0.001, 100)"
   ]
  },
  {
   "cell_type": "code",
   "execution_count": 5,
   "id": "d4825283",
   "metadata": {},
   "outputs": [],
   "source": [
    "#Calculating the target variables.\n",
    "y=np.sin(x1)+e"
   ]
  },
  {
   "cell_type": "code",
   "execution_count": 6,
   "id": "e89909d8",
   "metadata": {},
   "outputs": [],
   "source": [
    "x2=np.random.normal(0, 1, 100)\n",
    "x3=np.random.normal(0, 1, 100)"
   ]
  },
  {
   "cell_type": "code",
   "execution_count": 7,
   "id": "0c152473",
   "metadata": {},
   "outputs": [],
   "source": [
    "dict={'X1':x1, 'X2':x2, 'X3':x3, 'Y':y}\n",
    "df=pd.DataFrame(dict)"
   ]
  },
  {
   "cell_type": "code",
   "execution_count": 8,
   "id": "76707e60",
   "metadata": {},
   "outputs": [
    {
     "data": {
      "text/html": [
       "<div>\n",
       "<style scoped>\n",
       "    .dataframe tbody tr th:only-of-type {\n",
       "        vertical-align: middle;\n",
       "    }\n",
       "\n",
       "    .dataframe tbody tr th {\n",
       "        vertical-align: top;\n",
       "    }\n",
       "\n",
       "    .dataframe thead th {\n",
       "        text-align: right;\n",
       "    }\n",
       "</style>\n",
       "<table border=\"1\" class=\"dataframe\">\n",
       "  <thead>\n",
       "    <tr style=\"text-align: right;\">\n",
       "      <th></th>\n",
       "      <th>X1</th>\n",
       "      <th>X2</th>\n",
       "      <th>X3</th>\n",
       "      <th>Y</th>\n",
       "    </tr>\n",
       "  </thead>\n",
       "  <tbody>\n",
       "    <tr>\n",
       "      <th>0</th>\n",
       "      <td>1.427283</td>\n",
       "      <td>0.159649</td>\n",
       "      <td>0.222038</td>\n",
       "      <td>0.992828</td>\n",
       "    </tr>\n",
       "    <tr>\n",
       "      <th>1</th>\n",
       "      <td>1.478701</td>\n",
       "      <td>-0.010198</td>\n",
       "      <td>-0.608259</td>\n",
       "      <td>0.993729</td>\n",
       "    </tr>\n",
       "    <tr>\n",
       "      <th>2</th>\n",
       "      <td>-0.239772</td>\n",
       "      <td>-1.515310</td>\n",
       "      <td>0.360445</td>\n",
       "      <td>-0.240123</td>\n",
       "    </tr>\n",
       "    <tr>\n",
       "      <th>3</th>\n",
       "      <td>-0.247494</td>\n",
       "      <td>-0.048922</td>\n",
       "      <td>-1.048131</td>\n",
       "      <td>-0.244500</td>\n",
       "    </tr>\n",
       "    <tr>\n",
       "      <th>4</th>\n",
       "      <td>1.533281</td>\n",
       "      <td>0.124226</td>\n",
       "      <td>-2.492623</td>\n",
       "      <td>1.000222</td>\n",
       "    </tr>\n",
       "    <tr>\n",
       "      <th>...</th>\n",
       "      <td>...</td>\n",
       "      <td>...</td>\n",
       "      <td>...</td>\n",
       "      <td>...</td>\n",
       "    </tr>\n",
       "    <tr>\n",
       "      <th>95</th>\n",
       "      <td>-0.219324</td>\n",
       "      <td>0.912585</td>\n",
       "      <td>-0.817331</td>\n",
       "      <td>-0.217306</td>\n",
       "    </tr>\n",
       "    <tr>\n",
       "      <th>96</th>\n",
       "      <td>-0.076612</td>\n",
       "      <td>0.634166</td>\n",
       "      <td>0.091480</td>\n",
       "      <td>-0.077031</td>\n",
       "    </tr>\n",
       "    <tr>\n",
       "      <th>97</th>\n",
       "      <td>0.307199</td>\n",
       "      <td>-0.727828</td>\n",
       "      <td>-0.706316</td>\n",
       "      <td>0.302377</td>\n",
       "    </tr>\n",
       "    <tr>\n",
       "      <th>98</th>\n",
       "      <td>0.643086</td>\n",
       "      <td>-0.652758</td>\n",
       "      <td>-0.248805</td>\n",
       "      <td>0.599800</td>\n",
       "    </tr>\n",
       "    <tr>\n",
       "      <th>99</th>\n",
       "      <td>0.511033</td>\n",
       "      <td>0.732793</td>\n",
       "      <td>0.857949</td>\n",
       "      <td>0.488290</td>\n",
       "    </tr>\n",
       "  </tbody>\n",
       "</table>\n",
       "<p>100 rows × 4 columns</p>\n",
       "</div>"
      ],
      "text/plain": [
       "          X1        X2        X3         Y\n",
       "0   1.427283  0.159649  0.222038  0.992828\n",
       "1   1.478701 -0.010198 -0.608259  0.993729\n",
       "2  -0.239772 -1.515310  0.360445 -0.240123\n",
       "3  -0.247494 -0.048922 -1.048131 -0.244500\n",
       "4   1.533281  0.124226 -2.492623  1.000222\n",
       "..       ...       ...       ...       ...\n",
       "95 -0.219324  0.912585 -0.817331 -0.217306\n",
       "96 -0.076612  0.634166  0.091480 -0.077031\n",
       "97  0.307199 -0.727828 -0.706316  0.302377\n",
       "98  0.643086 -0.652758 -0.248805  0.599800\n",
       "99  0.511033  0.732793  0.857949  0.488290\n",
       "\n",
       "[100 rows x 4 columns]"
      ]
     },
     "execution_count": 8,
     "metadata": {},
     "output_type": "execute_result"
    }
   ],
   "source": [
    "df"
   ]
  },
  {
   "cell_type": "code",
   "execution_count": 9,
   "id": "3cab016b",
   "metadata": {},
   "outputs": [],
   "source": [
    "X= df[['X1', 'X2', 'X3']]"
   ]
  },
  {
   "cell_type": "code",
   "execution_count": 10,
   "id": "f4f8ffeb",
   "metadata": {},
   "outputs": [],
   "source": [
    "Y=df['Y']"
   ]
  },
  {
   "cell_type": "markdown",
   "id": "e3f68996",
   "metadata": {},
   "source": [
    "##### Modelling using Decision Tree Regressor"
   ]
  },
  {
   "cell_type": "code",
   "execution_count": 11,
   "id": "fb3bd13b",
   "metadata": {},
   "outputs": [],
   "source": [
    "#Splitting the dataset into train and test.\n",
    "from sklearn.model_selection import train_test_split\n",
    "X_train, X_test, y_train, y_test = train_test_split(X, Y, test_size = 0.2)"
   ]
  },
  {
   "cell_type": "code",
   "execution_count": 12,
   "id": "fa763a3e",
   "metadata": {},
   "outputs": [],
   "source": [
    "from sklearn.tree import DecisionTreeRegressor"
   ]
  },
  {
   "cell_type": "code",
   "execution_count": 13,
   "id": "df62cee0",
   "metadata": {},
   "outputs": [
    {
     "data": {
      "text/plain": [
       "DecisionTreeRegressor()"
      ]
     },
     "execution_count": 13,
     "metadata": {},
     "output_type": "execute_result"
    }
   ],
   "source": [
    "model = DecisionTreeRegressor()\n",
    "model.fit(X_train,y_train)"
   ]
  },
  {
   "cell_type": "code",
   "execution_count": 14,
   "id": "0d483226",
   "metadata": {},
   "outputs": [],
   "source": [
    "#model.score(X_test, y_test)"
   ]
  },
  {
   "cell_type": "code",
   "execution_count": 15,
   "id": "19992195",
   "metadata": {},
   "outputs": [],
   "source": [
    "#model.score(X_train, y_train)"
   ]
  },
  {
   "cell_type": "markdown",
   "id": "aafd554a",
   "metadata": {},
   "source": [
    "##### Calculating the SHAP Values for explaining the model predictions"
   ]
  },
  {
   "cell_type": "code",
   "execution_count": 16,
   "id": "68d9f603",
   "metadata": {},
   "outputs": [],
   "source": [
    "explainer = shap.Explainer(model.predict,X)\n",
    "shap_values = explainer(X)"
   ]
  },
  {
   "cell_type": "code",
   "execution_count": 17,
   "id": "8d6e302c",
   "metadata": {},
   "outputs": [
    {
     "data": {
      "text/plain": [
       ".values =\n",
       "array([[ 1.00266494e+00, -5.60006360e-03,  2.64755110e-02],\n",
       "       [ 1.00605277e+00, -2.75760605e-03,  2.76393441e-02],\n",
       "       [-2.19487723e-01,  7.20830194e-03,  2.86911227e-03],\n",
       "       [-2.08556028e-01, -8.28781528e-03,  3.05614880e-03],\n",
       "       [ 1.00558020e+00, -2.28503478e-03,  2.76393441e-02],\n",
       "       [-5.34972117e-01, -3.71644421e-02, -2.63691126e-03],\n",
       "       [-6.49809756e-02, -2.99152521e-04, -3.49620410e-03],\n",
       "       [-3.16387666e-01,  4.12912819e-03,  8.29565963e-03],\n",
       "       [ 8.90776850e-01, -1.18814718e-02, -4.65363449e-02],\n",
       "       [-8.82847677e-01, -1.16941177e-02, -3.59058825e-03],\n",
       "       [-3.61150969e-01, -5.78436347e-04,  2.88438401e-03],\n",
       "       [-1.49260806e-01, -3.22872756e-03,  3.01917821e-03],\n",
       "       [ 3.93143345e-01, -3.47166095e-03, -2.67720215e-03],\n",
       "       [-9.37697368e-04,  9.64325410e-03, -2.70858889e-03],\n",
       "       [-7.29627063e-02, -3.34485812e-03,  3.05614880e-03],\n",
       "       [-5.51597500e-01, -2.62321184e-02,  3.05614880e-03],\n",
       "       [ 1.75345969e-01, -3.60665257e-03, -2.76458513e-03],\n",
       "       [-6.21233073e-01,  9.53712552e-03,  2.88912411e-03],\n",
       "       [ 8.84337299e-01, -5.30853466e-03, -2.64023157e-03],\n",
       "       [ 6.43037151e-01,  6.47695143e-04,  3.58276849e-03],\n",
       "       [-8.60423140e-01, -1.05982853e-02, -2.64023157e-03],\n",
       "       [-9.38188033e-01, -1.24503101e-02,  2.80018316e-03],\n",
       "       [ 6.11319034e-01, -2.52670682e-02, -2.90954851e-03],\n",
       "       [ 4.78554945e-03, -4.19739339e-03,  2.27365307e-03],\n",
       "       [-8.80397141e-01, -1.22190695e-02, -2.57204173e-03],\n",
       "       [-2.60728760e-01, -5.78436347e-04,  2.88438401e-03],\n",
       "       [-5.24790984e-01,  2.56559981e-02,  2.82208489e-03],\n",
       "       [ 2.00461983e-02, -7.94192138e-04, -3.84876859e-03],\n",
       "       [-5.41767917e-01, -1.81219870e-02,  3.04176695e-03],\n",
       "       [ 8.51816090e-01, -2.71227168e-04, -2.37662940e-03],\n",
       "       [-8.69303853e-01,  7.61910567e-02,  2.81328244e-03],\n",
       "       [-9.34625390e-01, -1.59985715e-02,  2.78580132e-03],\n",
       "       [ 1.24830788e-01, -3.66232137e-04,  2.91469889e-03],\n",
       "       [-1.99113586e-01,  1.65786776e-03,  3.01917821e-03],\n",
       "       [-7.90788959e-01,  1.29210183e-01, -3.38244160e-03],\n",
       "       [ 5.51253682e-01, -3.57872722e-03,  1.15559321e-02],\n",
       "       [ 9.61349351e-02,  9.46623272e-03, -3.50805437e-03],\n",
       "       [-6.08435728e-01, -4.53362083e-03,  3.04176695e-03],\n",
       "       [-2.99010148e-01,  2.24084816e-03,  1.09953539e-02],\n",
       "       [ 8.53637085e-01, -4.19739339e-03,  3.04176695e-03],\n",
       "       [ 3.44099308e-01, -3.54296686e-03, -3.59058825e-03],\n",
       "       [-8.61610214e-01, -5.40971789e-03, -2.67020099e-03],\n",
       "       [-8.75464634e-01, -1.07844348e-02,  3.05614880e-03],\n",
       "       [ 8.79348880e-01,  4.93525036e-04,  2.91469889e-03],\n",
       "       [-8.92350865e-01, -8.66590151e-03,  2.88438401e-03],\n",
       "       [-3.12151849e-01,  3.18970143e-04, -1.33585021e-02],\n",
       "       [ 1.75475165e-02, -3.66232137e-04,  4.92587558e-03],\n",
       "       [ 3.89181953e-01,  9.48999527e-03,  2.86911227e-03],\n",
       "       [-4.85687756e-01,  2.47734250e-02,  2.84765967e-03],\n",
       "       [-6.51659207e-01, -3.66232137e-04,  2.91469889e-03],\n",
       "       [ 9.28047460e-02, -6.49131939e-04,  3.05614880e-03],\n",
       "       [-8.04259307e-01, -6.02303455e-03, -3.56799951e-03],\n",
       "       [-1.99285983e-01,  1.86033307e-03,  2.98910957e-03],\n",
       "       [-5.51412647e-01, -2.63800007e-02,  3.01917821e-03],\n",
       "       [ 5.37921242e-01,  9.67117946e-03,  1.16384659e-02],\n",
       "       [-1.11556485e-01, -3.54296686e-03, -3.59058825e-03],\n",
       "       [ 1.40270101e-01, -2.87327600e-04, -3.55683388e-03],\n",
       "       [ 4.18219666e-01, -2.87327600e-04, -2.73083076e-03],\n",
       "       [-4.06820971e-01,  9.64325410e-03, -3.50805437e-03],\n",
       "       [ 2.11223640e-01, -4.23681200e-04,  2.86437217e-03],\n",
       "       [ 7.98783767e-01,  1.76329787e-02,  2.88912411e-03],\n",
       "       [-9.29361700e-01, -1.47093425e-02, -2.34508590e-03],\n",
       "       [ 9.96324106e-02, -4.23681200e-04,  2.88438401e-03],\n",
       "       [-6.83303619e-01, -6.88847176e-04,  3.05614880e-03],\n",
       "       [ 9.49050763e-01,  9.84043054e-03, -2.73783759e-02],\n",
       "       [-7.03405782e-01, -5.78436347e-04,  2.86437217e-03],\n",
       "       [ 4.21251248e-01, -3.57872722e-03, -2.47101355e-03],\n",
       "       [-1.21171468e-01, -3.66232137e-04,  2.84765967e-03],\n",
       "       [-7.00655387e-01, -3.48363770e-03,  3.01917821e-03],\n",
       "       [ 6.34953401e-01,  2.76957836e-03, -4.00860866e-03],\n",
       "       [ 9.62677682e-01, -5.54116745e-03,  3.62523722e-02],\n",
       "       [ 7.99896435e-01, -1.17708724e-03,  2.88438401e-03],\n",
       "       [-3.37449240e-01, -3.47812843e-03, -2.80155571e-03],\n",
       "       [ 8.21566073e-03, -2.87327600e-04, -1.93136529e-03],\n",
       "       [ 9.48562954e-01, -4.76198716e-03, -3.98215860e-02],\n",
       "       [ 9.48112660e-01, -3.48453052e-03, -4.06487494e-02],\n",
       "       [ 7.59880755e-01, -3.66232137e-04,  2.91469889e-03],\n",
       "       [ 1.75171772e-01, -3.55680970e-03, -2.64023157e-03],\n",
       "       [ 3.40376006e-01,  1.11937754e-02,  2.88912411e-03],\n",
       "       [ 9.05496567e-01,  8.50275662e-03, -3.92053195e-02],\n",
       "       [ 3.71843123e-01, -3.55206959e-03, -2.76458513e-03],\n",
       "       [ 3.48073170e-01, -9.63660760e-04,  2.81734478e-03],\n",
       "       [-9.34605378e-01, -1.59985715e-02,  2.76578948e-03],\n",
       "       [-3.50894410e-02, -4.08587149e-04, -1.28249465e-04],\n",
       "       [ 2.51608389e-01, -4.69001719e-04,  2.88438401e-03],\n",
       "       [-8.29517479e-02, -3.49274044e-03,  2.95213899e-03],\n",
       "       [-1.49415769e-01, -3.95397047e-03,  2.98910957e-03],\n",
       "       [-6.45266579e-01, -2.87327600e-04, -3.55683388e-03],\n",
       "       [-1.79253992e-03,  9.48999527e-03,  2.88912411e-03],\n",
       "       [ 6.34100022e-01,  2.75775344e-03, -3.14340424e-03],\n",
       "       [ 3.47254740e-01, -2.99152521e-04, -3.49620410e-03],\n",
       "       [-9.25205006e-01, -2.53989437e-02,  2.76578948e-03],\n",
       "       [ 5.35343011e-01, -7.87142358e-04, -1.97553136e-03],\n",
       "       [-1.99756287e-02, -3.66232137e-04,  2.91469889e-03],\n",
       "       [-5.15204392e-01,  1.59767920e-02,  2.91469889e-03],\n",
       "       [-1.99740973e-01,  2.28525443e-03,  3.01917821e-03],\n",
       "       [-4.43723943e-02, -2.91993675e-03,  9.74133885e-04],\n",
       "       [ 3.30783809e-01, -5.78436347e-04,  2.88438401e-03],\n",
       "       [ 6.25894838e-01,  2.29168812e-03,  2.32587695e-03],\n",
       "       [ 5.30833426e-01, -2.97926591e-03, -8.85200551e-03]])\n",
       "\n",
       ".base_values =\n",
       "array([-0.03071232, -0.03071232, -0.03071232, -0.03071232, -0.03071232,\n",
       "       -0.03071232, -0.03071232, -0.03071232, -0.03071232, -0.03071232,\n",
       "       -0.03071232, -0.03071232, -0.03071232, -0.03071232, -0.03071232,\n",
       "       -0.03071232, -0.03071232, -0.03071232, -0.03071232, -0.03071232,\n",
       "       -0.03071232, -0.03071232, -0.03071232, -0.03071232, -0.03071232,\n",
       "       -0.03071232, -0.03071232, -0.03071232, -0.03071232, -0.03071232,\n",
       "       -0.03071232, -0.03071232, -0.03071232, -0.03071232, -0.03071232,\n",
       "       -0.03071232, -0.03071232, -0.03071232, -0.03071232, -0.03071232,\n",
       "       -0.03071232, -0.03071232, -0.03071232, -0.03071232, -0.03071232,\n",
       "       -0.03071232, -0.03071232, -0.03071232, -0.03071232, -0.03071232,\n",
       "       -0.03071232, -0.03071232, -0.03071232, -0.03071232, -0.03071232,\n",
       "       -0.03071232, -0.03071232, -0.03071232, -0.03071232, -0.03071232,\n",
       "       -0.03071232, -0.03071232, -0.03071232, -0.03071232, -0.03071232,\n",
       "       -0.03071232, -0.03071232, -0.03071232, -0.03071232, -0.03071232,\n",
       "       -0.03071232, -0.03071232, -0.03071232, -0.03071232, -0.03071232,\n",
       "       -0.03071232, -0.03071232, -0.03071232, -0.03071232, -0.03071232,\n",
       "       -0.03071232, -0.03071232, -0.03071232, -0.03071232, -0.03071232,\n",
       "       -0.03071232, -0.03071232, -0.03071232, -0.03071232, -0.03071232,\n",
       "       -0.03071232, -0.03071232, -0.03071232, -0.03071232, -0.03071232,\n",
       "       -0.03071232, -0.03071232, -0.03071232, -0.03071232, -0.03071232])\n",
       "\n",
       ".data =\n",
       "array([[ 1.42728308,  0.15964904,  0.22203829],\n",
       "       [ 1.47870128, -0.01019751, -0.60825922],\n",
       "       [-0.23977245, -1.51531015,  0.36044459],\n",
       "       [-0.24749377, -0.04892249, -1.04813062],\n",
       "       [ 1.53328143,  0.1242259 , -2.49262306],\n",
       "       [-0.48637355, -0.04356688,  0.71060015],\n",
       "       [-0.10057611, -0.83799093,  1.28102658],\n",
       "       [-0.34133318, -1.04066073,  0.23965141],\n",
       "       [ 2.21483803,  0.37691064,  0.97428336],\n",
       "       [-1.20379666,  0.50803962,  1.08118026],\n",
       "       [-0.40006921, -0.71393543, -0.49791009],\n",
       "       [-0.18117052,  0.50907686, -1.45476655],\n",
       "       [ 0.3643026 ,  0.01784799,  0.56253707],\n",
       "       [-0.0336973 , -2.38159307,  1.56897793],\n",
       "       [-0.10425979,  0.09369282, -1.37554474],\n",
       "       [-0.64967195,  0.09437069, -1.84715415],\n",
       "       [ 0.13905821,  0.47885381,  0.95137316],\n",
       "       [-0.69344778, -1.03300462, -1.48909344],\n",
       "       [ 1.00755721,  0.86799832,  0.59987392],\n",
       "       [ 0.66581063,  0.64775295,  1.88376238],\n",
       "       [-1.12990158,  0.51833542,  0.59518409],\n",
       "       [-1.29411096, -0.15525982, -0.64186403],\n",
       "       [ 0.58531418,  1.26473498,  0.8593282 ],\n",
       "       [-0.02677535,  1.70873794, -0.12839339],\n",
       "       [-1.17924624,  1.65659931,  3.0449805 ],\n",
       "       [-0.29392721, -0.6559239 , -1.41205435],\n",
       "       [-0.61440983, -1.24303655,  0.12361694],\n",
       "       [-0.01488128, -0.09794148,  2.42817089],\n",
       "       [-0.62924863,  1.00405143, -1.50917668],\n",
       "       [ 0.96012978, -0.83468711,  2.14544611],\n",
       "       [-2.17778486, -1.28610489, -0.49966584],\n",
       "       [-2.21127802,  1.31257337, -0.50507792],\n",
       "       [ 0.09801641, -0.3677326 , -1.16142545],\n",
       "       [-0.2429729 ,  0.48313313, -1.66846071],\n",
       "       [-2.37136961, -1.22583912,  1.13214696],\n",
       "       [ 0.55632205,  0.3668533 ,  1.95774047],\n",
       "       [ 0.07915919, -1.22777739,  1.3478547 ],\n",
       "       [-0.69560137,  1.14988115, -0.46812791],\n",
       "       [-0.3230976 , -0.21294752, -0.10663502],\n",
       "       [ 0.96554361,  1.49582718, -0.67578374],\n",
       "       [ 0.31024505,  0.27895493,  1.25078457],\n",
       "       [-1.11843522, -0.75545904,  0.90983517],\n",
       "       [-1.15151681, -0.08754406, -1.38475635],\n",
       "       [ 1.01872353, -0.24720574, -0.37107725],\n",
       "       [-1.18979905, -0.75103824, -0.49184152],\n",
       "       [-0.36338948, -0.44501629,  0.788719  ],\n",
       "       [-0.00653749, -0.52493055, -2.52941491],\n",
       "       [ 0.37884866, -1.74982465,  0.46674088],\n",
       "       [-0.50944826, -0.27472919,  0.16075847],\n",
       "       [-0.74740725, -0.6153701 , -1.24760125],\n",
       "       [ 0.0641545 , -0.14952545, -0.60483501],\n",
       "       [-1.0069467 ,  2.12444904,  1.10031391],\n",
       "       [-0.22624101,  0.06398369,  0.13518573],\n",
       "       [-0.63421691,  0.21011139, -1.22008286],\n",
       "       [ 0.5552272 , -1.6553362 ,  2.34652706],\n",
       "       [-0.14832953,  0.26127611,  1.40987318],\n",
       "       [ 0.10669355, -0.41022386,  1.22723224],\n",
       "       [ 0.39353688, -0.62103084,  0.94612791],\n",
       "       [-0.44608719, -1.56205763,  1.26714673],\n",
       "       [ 0.18503784, -0.97362311,  0.44530942],\n",
       "       [ 0.909033  , -1.76916685, -0.96292049],\n",
       "       [-1.77757445,  0.89722081,  0.81145021],\n",
       "       [ 0.07177982, -0.87880404, -0.09526465],\n",
       "       [-0.79188597, -0.10029037, -0.61644776],\n",
       "       [ 1.12241646, -1.84349905,  0.76335581],\n",
       "       [-0.85559729, -0.64125436,  0.41801586],\n",
       "       [ 0.3964809 ,  0.49445563,  1.89031679],\n",
       "       [-0.15422334, -0.22680152,  0.25434889],\n",
       "       [-0.82099283,  0.27584193, -2.07657721],\n",
       "       [ 0.6655994 , -0.20133457,  1.27476745],\n",
       "       [ 1.84416441,  2.02329044,  0.18278437],\n",
       "       [ 0.87843178, -0.82957458, -1.50585064],\n",
       "       [-0.38328332,  0.12746071,  1.00233821],\n",
       "       [-0.02510322, -0.2163957 ,  0.75923193],\n",
       "       [ 1.46316365,  1.14918043,  1.6061969 ],\n",
       "       [ 1.06243334,  0.95193706,  1.34366859],\n",
       "       [ 0.82174812, -0.22792928, -0.52170149],\n",
       "       [ 0.13830271,  0.19768747,  0.52607571],\n",
       "       [ 0.33076596, -1.02369494, -1.34128091],\n",
       "       [ 2.13608763, -0.73085737,  1.30384246],\n",
       "       [ 0.34267012,  0.21915823,  0.74242715],\n",
       "       [ 0.32694689, -0.70898507,  0.24512507],\n",
       "       [-1.3534899 ,  0.98770805,  0.41926447],\n",
       "       [-0.0660244 , -0.76438127,  1.38410672],\n",
       "       [ 0.22364703, -0.81029603, -2.3547934 ],\n",
       "       [-0.11322688,  0.20365279,  0.15349234],\n",
       "       [-0.18103333, -0.0360303 ,  0.15709615],\n",
       "       [-0.76648838, -0.38328167,  1.2034821 ],\n",
       "       [-0.02142844, -1.95479432, -0.95358289],\n",
       "       [ 0.64685687, -0.80709238,  1.79735285],\n",
       "       [ 0.31842408, -0.80885444,  1.4292654 ],\n",
       "       [-2.84722506,  1.4900112 ,  0.47080546],\n",
       "       [ 0.5261549 , -0.14941932,  0.59600721],\n",
       "       [-0.04883279, -0.17911343, -0.85281409],\n",
       "       [-0.55482478, -0.43240317, -0.55371675],\n",
       "       [-0.21932423,  0.91258492, -0.8173311 ],\n",
       "       [-0.0766125 ,  0.63416607,  0.09148004],\n",
       "       [ 0.30719852, -0.72782788, -0.70631625],\n",
       "       [ 0.6430858 , -0.65275839, -0.24880517],\n",
       "       [ 0.51103287,  0.73279317,  0.85794948]])"
      ]
     },
     "execution_count": 17,
     "metadata": {},
     "output_type": "execute_result"
    }
   ],
   "source": [
    "shap_values #Contains all the SHAP Values, Base Vlaues and the whole data set that has been passed to the Explainer."
   ]
  },
  {
   "cell_type": "code",
   "execution_count": 18,
   "id": "963e01a2",
   "metadata": {},
   "outputs": [
    {
     "data": {
      "image/png": "[encoded data removed]",
      "text/plain": [
       "<Figure size 576x216 with 1 Axes>"
      ]
     },
     "metadata": {},
     "output_type": "display_data"
    }
   ],
   "source": [
    "shap.plots.bar(shap_values)"
   ]
  },
  {
   "cell_type": "markdown",
   "id": "73ef78ca",
   "metadata": {},
   "source": [
    "###### As per the above Bar Chart, it is evedint that X1 feature is most influential variable and it is contribution on average +/- 0.50 to each of the predictions."
   ]
  },
  {
   "cell_type": "code",
   "execution_count": 19,
   "id": "f2008878",
   "metadata": {},
   "outputs": [
    {
     "data": {
      "image/png": "[encoded data removed]",
      "text/plain": [
       "<Figure size 576x194.4 with 2 Axes>"
      ]
     },
     "metadata": {
      "needs_background": "light"
     },
     "output_type": "display_data"
    }
   ],
   "source": [
    "shap.plots.beeswarm(shap_values)"
   ]
  },
  {
   "cell_type": "markdown",
   "id": "7bcadcc4",
   "metadata": {},
   "source": [
    "###### As per the above Beeswarm Plot, it can be seen that X1 has a wide distribution of SHAP values and also for high vales of X1, it has high SHAP values which indicates that high value of X1 is pushing the predictions to go close to 1 and inversely lower values of X1 are pushing the predicted values close to -1 . Furthermore, for X2 and X3 as they are still on the base value, it is clear that they have no contribution in the prediction."
   ]
  },
  {
   "cell_type": "code",
   "execution_count": 20,
   "id": "5ce7a4c7",
   "metadata": {},
   "outputs": [
    {
     "data": {
      "image/png": "[encoded data removed]",
      "text/plain": [
       "<Figure size 576x216 with 3 Axes>"
      ]
     },
     "metadata": {},
     "output_type": "display_data"
    }
   ],
   "source": [
    "shap.plots.waterfall(shap_values[0])"
   ]
  },
  {
   "cell_type": "markdown",
   "id": "60aa66d4",
   "metadata": {},
   "source": [
    "##### With the Waterfall plot for the first observation we can see that influence of X1 is quite high as compaired to other variables in pushing the prediction from the base value to the predicted one."
   ]
  },
  {
   "cell_type": "code",
   "execution_count": 21,
   "id": "d9bab020",
   "metadata": {},
   "outputs": [
    {
     "data": {
      "image/png": "[encoded data removed]",
      "text/plain": [
       "<Figure size 432x360 with 2 Axes>"
      ]
     },
     "metadata": {
      "needs_background": "light"
     },
     "output_type": "display_data"
    }
   ],
   "source": [
    "shap.plots.scatter(shap_values[:,\"X1\"])"
   ]
  },
  {
   "cell_type": "markdown",
   "id": "ee5e1285",
   "metadata": {},
   "source": [
    "##### The Dependance Plot of X1 vs SHAP Values clearly shows that X1 has the most influence in the prediction as its SHAP values follow the same trend as that of the target variable. "
   ]
  },
  {
   "cell_type": "code",
   "execution_count": 22,
   "id": "ce564570",
   "metadata": {},
   "outputs": [
    {
     "data": {
      "image/png": "[encoded data removed]",
      "text/plain": [
       "<Figure size 432x360 with 2 Axes>"
      ]
     },
     "metadata": {
      "needs_background": "light"
     },
     "output_type": "display_data"
    }
   ],
   "source": [
    "shap.plots.scatter(shap_values[:,\"X2\"])"
   ]
  },
  {
   "cell_type": "code",
   "execution_count": 23,
   "id": "75206f87",
   "metadata": {},
   "outputs": [
    {
     "data": {
      "image/png": "[encoded data removed]",
      "text/plain": [
       "<Figure size 432x360 with 2 Axes>"
      ]
     },
     "metadata": {
      "needs_background": "light"
     },
     "output_type": "display_data"
    }
   ],
   "source": [
    "shap.plots.scatter(shap_values[:,\"X3\"])"
   ]
  },
  {
   "cell_type": "markdown",
   "id": "00963bda",
   "metadata": {},
   "source": [
    "##### Seeing the Dependance Plots of X2 and X3 it is evident that major distribution of points are near 0 so there contribution towards the predictions is mearly negligible."
   ]
  },
  {
   "cell_type": "code",
   "execution_count": null,
   "id": "150f75d9",
   "metadata": {},
   "outputs": [],
   "source": []
  }
 ],
 "metadata": {
  "kernelspec": {
   "display_name": "Python 3",
   "language": "python",
   "name": "python3"
  },
  "language_info": {
   "codemirror_mode": {
    "name": "ipython",
    "version": 3
   },
   "file_extension": ".py",
   "mimetype": "text/x-python",
   "name": "python",
   "nbconvert_exporter": "python",
   "pygments_lexer": "ipython3",
   "version": "3.8.8"
  }
 },
 "nbformat": 4,
 "nbformat_minor": 5
}
